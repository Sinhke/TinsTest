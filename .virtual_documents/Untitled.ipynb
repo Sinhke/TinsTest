import os
import cv2


img_folder_dir = "./Images/Tin"
list_img_name = os.listdir(img_folder_dir)
list_img_dir = []
for img_name in list_img_name:
    list_img_dir.append(os.path.join(img_folder_dir, img_name))
list_img_dir


def canny_edge(img_dir):
    # Read the original image
    img = cv2.imread(img_dir) 
    # Display original image
    cv2.imshow('Original', img)
     
    # Convert to graycsale
    img_gray = cv2.cvtColor(img, cv2.COLOR_BGR2GRAY)
    # Blur the image for better edge detection
    img_blur = cv2.GaussianBlur(img_gray, (5,5), 0) 
     
    # Canny Edge Detection
    edges = cv2.Canny(image=img_blur, threshold1=50, threshold2=200) # Canny Edge Detection
    # Display Canny Edge Detection Image
    cv2.imshow('Canny Edge Detection', edges)
    cv2.waitKey(0)


for img_dir in list_img_dir:
    canny_edge(img_dir)



